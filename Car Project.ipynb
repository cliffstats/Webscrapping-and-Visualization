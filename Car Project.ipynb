{
 "cells": [
  {
   "cell_type": "markdown",
   "metadata": {},
   "source": [
    "## Python Scrapper"
   ]
  },
  {
   "cell_type": "code",
   "execution_count": 1,
   "metadata": {
    "collapsed": true
   },
   "outputs": [],
   "source": [
    "#Import all required libraries\n",
    "from selenium import webdriver\n",
    "from bs4 import BeautifulSoup\n",
    "import requests\n",
    "from selenium.webdriver.common.keys import Keys\n",
    "import pandas as pd\n",
    "import numpy as np\n",
    "import re\n",
    "import itertools\n",
    "import pandas as pd\n",
    "\n",
    "#This will open up a new instance of your browser and redirect to link\n",
    "chrome_path = './chromedriver'\n",
    "driver = webdriver.Chrome(chrome_path)"
   ]
  },
  {
   "cell_type": "code",
   "execution_count": 5,
   "metadata": {},
   "outputs": [
    {
     "name": "stdout",
     "output_type": "stream",
     "text": [
      "Certified 2017 Ford Escape SE\n",
      "$16,248\n",
      "Brake Assist-Stability Control\n",
      "$313 est/month\n"
     ]
    }
   ],
   "source": [
    "#2017 Ford Escape features\n",
    "driver.get(\"https://www.cars.com/vehicledetail/detail/748145958/overview/\")\n",
    "driver.implicitly_wait(8)\n",
    "name1= driver.find_element_by_xpath('//*[@id=\"vdpOverview\"]/h1').text\n",
    "price1=driver.find_element_by_xpath('/html/body/div[1]/div[2]/section[2]/section[1]/div[2]/div[1]/span').text\n",
    "safety1=driver.find_element_by_xpath('/html/body/div[1]/div[2]/section[2]/section[2]/div[7]/div[3]/ul').text\n",
    "safety1=safety1.split('\\n')[1:len(safety1)]\n",
    "safety1='-'.join(safety1)\n",
    "maintainance_cost1=driver.find_element_by_xpath('/html/body/div[1]/div[2]/section[2]/section[1]/div[2]/div[3]/div/a').text\n",
    "\n",
    "#2017 Honda CRV features\n",
    "driver.get(\"https://www.cars.com/vehicledetail/detail/762748358/overview/\")\n",
    "driver.implicitly_wait(8)\n",
    "name2= driver.find_element_by_xpath('//*[@id=\"vdpOverview\"]/h1').text\n",
    "price2=driver.find_element_by_xpath('/html/body/div[1]/div[2]/section[2]/section[1]/div[2]/div[1]/span').text\n",
    "safety2=driver.find_element_by_xpath('/html/body/div[1]/div[2]/section[2]/section[2]/div[7]/div[3]/ul').text\n",
    "safety2=safety2.split('\\n')[1:len(safety2)]\n",
    "safety2='-'.join(safety2)\n",
    "maintainance_cost2=driver.find_element_by_xpath('/html/body/div[1]/div[2]/section[2]/section[1]/div[2]/div[3]/div/a').text\n",
    "\n",
    "#2017 Hyundai-Santa-Fe features\n",
    "driver.get(\"https://www.cars.com/vehicledetail/detail/762264504/overview/\")\n",
    "driver.implicitly_wait(8)\n",
    "name3= driver.find_element_by_xpath('//*[@id=\"vdpOverview\"]/h1').text\n",
    "price3=driver.find_element_by_xpath('/html/body/div[1]/div[2]/section[2]/section[1]/div[2]/div[1]/span').text\n",
    "safety3=driver.find_element_by_xpath('/html/body/div[1]/div[2]/section[2]/section[2]/div[6]/div[3]/ul').text\n",
    "safety3=safety3.split('\\n')[1:len(safety3)]\n",
    "safety3='-'.join(safety3)\n",
    "maintainance_cost3=driver.find_element_by_xpath('/html/body/div[1]/div[2]/section[2]/section[1]/div[2]/div[3]/div/a').text\n",
    "\n",
    "#2017 Toyota Rav 4 features\n",
    "driver.get(\"https://www.cars.com/vehicledetail/detail/762844552/overview/\")\n",
    "driver.implicitly_wait(8)\n",
    "name4= driver.find_element_by_xpath('//*[@id=\"vdpOverview\"]/h1').text\n",
    "price4=driver.find_element_by_xpath('/html/body/div[1]/div[2]/section[2]/section[1]/div[2]/div[1]/span').text\n",
    "safety4=driver.find_element_by_xpath('/html/body/div[1]/div[2]/section[2]/section[2]/div[7]/div[2]').text\n",
    "safety4=safety4.split('\\n')[1:len(safety4)]\n",
    "safety4='-'.join(safety4)\n",
    "maintainance_cost4=driver.find_element_by_xpath('/html/body/div[1]/div[2]/section[2]/section[1]/div[2]/div[3]/div/a').text"
   ]
  },
  {
   "cell_type": "code",
   "execution_count": 25,
   "metadata": {},
   "outputs": [
    {
     "name": "stdout",
     "output_type": "stream",
     "text": [
      "['Certified 2017 Ford Escape SE', 'Certified 2017 Honda CR-V EX', 'Used 2017 Hyundai Santa Fe SE', 'Certified 2017 Toyota RAV4 LE']\n",
      "['$16,248', '$23,700', '$13,791', '$21,277']\n",
      "['Brake Assist-Stability Control', 'Brake Assist-Stability Control', 'Brake Assist-Stability Control', 'Brake Assist-Stability Control']\n",
      "['$313 est/month', '$456 est/month', '$265 est/month', '$410 est/month']\n"
     ]
    }
   ],
   "source": [
    "#create price, safety and maintainance variable as lists\n",
    "name=[name1,name2,name3,name4]\n",
    "price=[price1,price2,price3,price4]\n",
    "safety=[safety1,safety2,safety3,safety4]\n",
    "maintainance_cost=[maintainance_cost1,maintainance_cost2,maintainance_cost3,maintainance_cost4]"
   ]
  },
  {
   "cell_type": "code",
   "execution_count": 27,
   "metadata": {},
   "outputs": [
    {
     "name": "stdout",
     "output_type": "stream",
     "text": [
      "24 MPG Combined\n",
      "27 MPG Combined\n",
      "21 MPG Combined\n",
      "25 MPG Combined\n",
      "['24 MPG Combined', '27 MPG Combined', '21 MPG Combined', '25 MPG Combined']\n"
     ]
    }
   ],
   "source": [
    "#Fuel_Economy variable\n",
    "driver.get(\"https://www.kbb.com/ford/escape/2017/\")\n",
    "driver.implicitly_wait(8)\n",
    "fuel_economy1=driver.find_element_by_xpath('//*[@id=\"ymmOverview\"]/div[1]/div[2]/div[1]/div[1]/div/p[1]').text\n",
    "\n",
    "driver.get(\"https://www.kbb.com/honda/cr-v/2017/\")\n",
    "driver.implicitly_wait(8)\n",
    "fuel_economy2=driver.find_element_by_xpath('//*[@id=\"ymmOverview\"]/div[1]/div[2]/div[1]/div[1]/div/p[1]').text\n",
    "\n",
    "driver.get(\"https://www.kbb.com/hyundai/santa-fe/2017/\")\n",
    "driver.implicitly_wait(8)\n",
    "fuel_economy3=driver.find_element_by_xpath('//*[@id=\"ymmOverview\"]/div[1]/div[2]/div[1]/div[1]/div/p[1]').text\n",
    "\n",
    "driver.get(\"https://www.kbb.com/toyota/rav4/2017/\")\n",
    "driver.implicitly_wait(8)\n",
    "fuel_economy4=driver.find_element_by_xpath('//*[@id=\"ymmOverview\"]/div[1]/div[2]/div[1]/div[1]/div/p[1]').text\n",
    "\n",
    "fuel_economy=[fuel_economy1,fuel_economy2,fuel_economy3,fuel_economy4]\n",
    "print(fuel_economy)"
   ]
  },
  {
   "cell_type": "code",
   "execution_count": 32,
   "metadata": {},
   "outputs": [
    {
     "name": "stdout",
     "output_type": "stream",
     "text": [
      "$11,208\n"
     ]
    }
   ],
   "source": [
    "#driver = webdriver.Chrome(chrome_path)\n",
    "driver.get(\"https://www.kbb.com/ford/escape/2017/s-sport-utility-4d/?vehicleid=415975&intent=trade-in-sell&category=suv\"+\n",
    "           \"&mileage=32989&pricetype=trade-in&condition=verygood&options=7127538|true&r=453843593730597400\")\n",
    "driver.implicitly_wait(8)\n",
    "\n",
    "\n",
    "\n",
    "#zip_code=90001\n",
    "#driver.find_element_by_xpath('//*[@id=\"selectedZipCode\"]').send_keys(zip_code)\n",
    "#driver.implicitly_wait(4)\n",
    "#driver.find_element_by_xpath('//*[@id=\"enterzipsubmit\"]').click()\n",
    "#driver.implicitly_wait(8)\n",
    "driver.find_element_by_xpath('//*[@id=\"tradeInContent\"]/div[1]/div[2]/div/div[5]').click()\n",
    "driver.implicitly_wait(8)\n",
    "resale_value1=driver.find_element_by_xpath('/html/body/div[11]/div/div/div/div/div[2]/div[3]').text\n",
    "print(resale_value1)"
   ]
  },
  {
   "cell_type": "code",
   "execution_count": 37,
   "metadata": {},
   "outputs": [
    {
     "name": "stdout",
     "output_type": "stream",
     "text": [
      "$17,579\n"
     ]
    }
   ],
   "source": [
    "#driver = webdriver.Chrome(chrome_path)\n",
    "driver.get(\"https://www.kbb.com/honda/cr-v/2017/lx-sport-utility-4d/?vehicleid=422663&intent\"+\n",
    "           \"=trade-in-sell&category=suv&mileage=31337&pricetype=trade-in&condition=verygood&options=7638297|true\")\n",
    "driver.implicitly_wait(8)\n",
    "driver.find_element_by_xpath('//*[@id=\"pageContent\"]/div[3]/div[3]/div/div/div[3]').click()\n",
    "driver.implicitly_wait(8)\n",
    "resale_value2=driver.find_element_by_xpath('/html/body/div[11]/div/div/div/div/div[2]/div[3]').text\n",
    "print(resale_value2)"
   ]
  },
  {
   "cell_type": "code",
   "execution_count": 41,
   "metadata": {},
   "outputs": [
    {
     "name": "stdout",
     "output_type": "stream",
     "text": [
      "$15,765\n"
     ]
    }
   ],
   "source": [
    "driver = webdriver.Chrome(chrome_path)\n",
    "driver.get(\"https://www.kbb.com/hyundai/santa-fe/2017/se-sport-utility-4d/?vehicleid=415732&intent=trade-in-sell&category\"+\n",
    "           \"=suv&mileage=31218&pricetype=trade-in&condition=verygood&options=7093892|true\")\n",
    "driver.implicitly_wait(8)\n",
    "driver.find_element_by_xpath('//*[@id=\"pageContent\"]/div[3]/div[3]/div/div/div[3]').click()\n",
    "driver.implicitly_wait(8)\n",
    "resale_value3=driver.find_element_by_xpath('/html/body/div[11]/div/div/div/div/div[2]/div[3]').text\n",
    "print(resale_value3)"
   ]
  },
  {
   "cell_type": "code",
   "execution_count": 42,
   "metadata": {},
   "outputs": [
    {
     "name": "stdout",
     "output_type": "stream",
     "text": [
      "$15,456\n"
     ]
    }
   ],
   "source": [
    "#driver = webdriver.Chrome(chrome_path)\n",
    "driver.get(\"https://www.kbb.com/toyota/rav4/2017/le-sport-utility-4d/?vehicleid=421396&intent=trade-in-sell&category\"+\n",
    "           \"=suv&mileage=30119&pricetype=trade-in&condition=verygood&options=7496507|true\")\n",
    "driver.implicitly_wait(10)\n",
    "driver.find_element_by_xpath('//*[@id=\"pageContent\"]/div[3]/div[3]/div/div/div[3]').click()\n",
    "driver.implicitly_wait(8)\n",
    "resale_value4=driver.find_element_by_xpath('/html/body/div[11]/div/div/div/div/div[2]/div[3]').text\n",
    "print(resale_value4)"
   ]
  },
  {
   "cell_type": "code",
   "execution_count": 43,
   "metadata": {},
   "outputs": [
    {
     "name": "stdout",
     "output_type": "stream",
     "text": [
      "['$11,208', '$17,579', '$15,765', '$15,456']\n"
     ]
    }
   ],
   "source": [
    "resale_value=[resale_value1,resale_value2,resale_value3,resale_value4]\n",
    "print(resale_value)"
   ]
  },
  {
   "cell_type": "code",
   "execution_count": 70,
   "metadata": {},
   "outputs": [
    {
     "data": {
      "text/plain": [
       "'$1152PER YEAR'"
      ]
     },
     "execution_count": 70,
     "metadata": {},
     "output_type": "execute_result"
    }
   ],
   "source": [
    "#driver = webdriver.Chrome(chrome_path)\n",
    "driver.get('https://www.insurance.com/auto-insurance.aspx')\n",
    "driver.implicitly_wait(8)\n",
    "driver.find_element_by_xpath('//*[@id=\"makes-select\"]/option[12]').click()\n",
    "driver.implicitly_wait(4)\n",
    "driver.find_element_by_xpath('//*[@id=\"models-select\"]/option[10]').click()\n",
    "driver.implicitly_wait(4)\n",
    "driver.find_element_by_xpath('//*[@id=\"states-select\"]/option[2]').click()\n",
    "driver.implicitly_wait(4)\n",
    "driver.find_element_by_xpath('//*[@id=\"autotool-form\"]/div/div[3]/div/div/input').click()\n",
    "driver.implicitly_wait(4)\n",
    "insurance1=driver.find_element_by_xpath('//*[@id=\"chart\"]/div[3]/div[1]/span[4]').text\n",
    "insurance1"
   ]
  },
  {
   "cell_type": "code",
   "execution_count": 73,
   "metadata": {},
   "outputs": [
    {
     "data": {
      "text/plain": [
       "'$1349PER YEAR'"
      ]
     },
     "execution_count": 73,
     "metadata": {},
     "output_type": "execute_result"
    }
   ],
   "source": [
    "driver.get('https://www.insurance.com/auto-insurance.aspx')\n",
    "driver.implicitly_wait(8)\n",
    "driver.find_element_by_xpath('//*[@id=\"makes-select\"]/option[15]').click()\n",
    "driver.implicitly_wait(4)\n",
    "driver.find_element_by_xpath('//*[@id=\"models-select\"]/option[31]').click()\n",
    "driver.implicitly_wait(4)\n",
    "driver.find_element_by_xpath('//*[@id=\"states-select\"]/option[2]').click()\n",
    "driver.implicitly_wait(4)\n",
    "driver.find_element_by_xpath('//*[@id=\"autotool-form\"]/div/div[3]/div/div/input').click()\n",
    "driver.implicitly_wait(4)\n",
    "insurance2=driver.find_element_by_xpath('//*[@id=\"chart\"]/div[3]/div[1]/span[4]').text\n",
    "insurance2"
   ]
  },
  {
   "cell_type": "code",
   "execution_count": 74,
   "metadata": {},
   "outputs": [
    {
     "data": {
      "text/plain": [
       "'$1229PER YEAR'"
      ]
     },
     "execution_count": 74,
     "metadata": {},
     "output_type": "execute_result"
    }
   ],
   "source": [
    "driver.get('https://www.insurance.com/auto-insurance.aspx')\n",
    "driver.implicitly_wait(8)\n",
    "driver.find_element_by_xpath('//*[@id=\"makes-select\"]/option[16]').click()\n",
    "driver.implicitly_wait(4)\n",
    "driver.find_element_by_xpath('//*[@id=\"models-select\"]/option[22]').click()\n",
    "driver.implicitly_wait(4)\n",
    "driver.find_element_by_xpath('//*[@id=\"states-select\"]/option[2]').click()\n",
    "driver.implicitly_wait(4)\n",
    "driver.find_element_by_xpath('//*[@id=\"autotool-form\"]/div/div[3]/div/div/input').click()\n",
    "driver.implicitly_wait(4)\n",
    "insurance3=driver.find_element_by_xpath('//*[@id=\"chart\"]/div[3]/div[1]/span[4]').text\n",
    "insurance3"
   ]
  },
  {
   "cell_type": "code",
   "execution_count": 77,
   "metadata": {},
   "outputs": [
    {
     "data": {
      "text/plain": [
       "'$1221PER YEAR'"
      ]
     },
     "execution_count": 77,
     "metadata": {},
     "output_type": "execute_result"
    }
   ],
   "source": [
    "driver.get('https://www.insurance.com/auto-insurance.aspx')\n",
    "driver.implicitly_wait(8)\n",
    "driver.find_element_by_xpath('//*[@id=\"makes-select\"]/option[34]').click()\n",
    "driver.implicitly_wait(4)\n",
    "driver.find_element_by_xpath('//*[@id=\"models-select\"]/option[51]').click()\n",
    "driver.implicitly_wait(4)\n",
    "driver.find_element_by_xpath('//*[@id=\"states-select\"]/option[2]').click()\n",
    "driver.implicitly_wait(4)\n",
    "driver.find_element_by_xpath('//*[@id=\"autotool-form\"]/div/div[3]/div/div/input').click()\n",
    "driver.implicitly_wait(4)\n",
    "insurance4=driver.find_element_by_xpath('//*[@id=\"chart\"]/div[3]/div[1]/span[4]').text\n",
    "insurance4"
   ]
  },
  {
   "cell_type": "code",
   "execution_count": 78,
   "metadata": {},
   "outputs": [
    {
     "data": {
      "text/plain": [
       "['$1152PER YEAR', '$1349PER YEAR', '$1229PER YEAR', '$1221PER YEAR']"
      ]
     },
     "execution_count": 78,
     "metadata": {},
     "output_type": "execute_result"
    }
   ],
   "source": [
    "insurance=[insurance1,insurance2,insurance3,insurance4]\n",
    "insurance"
   ]
  },
  {
   "cell_type": "code",
   "execution_count": 83,
   "metadata": {},
   "outputs": [
    {
     "data": {
      "text/html": [
       "<div>\n",
       "<style>\n",
       "    .dataframe thead tr:only-child th {\n",
       "        text-align: right;\n",
       "    }\n",
       "\n",
       "    .dataframe thead th {\n",
       "        text-align: left;\n",
       "    }\n",
       "\n",
       "    .dataframe tbody tr th {\n",
       "        vertical-align: top;\n",
       "    }\n",
       "</style>\n",
       "<table border=\"1\" class=\"dataframe\">\n",
       "  <thead>\n",
       "    <tr style=\"text-align: right;\">\n",
       "      <th></th>\n",
       "      <th>name</th>\n",
       "      <th>price</th>\n",
       "      <th>maintainance_cost</th>\n",
       "      <th>safety</th>\n",
       "    </tr>\n",
       "  </thead>\n",
       "  <tbody>\n",
       "    <tr>\n",
       "      <th>1</th>\n",
       "      <td>Certified 2017 Ford Escape SE</td>\n",
       "      <td>$16,248</td>\n",
       "      <td>$313 est/month</td>\n",
       "      <td>Brake Assist-Stability Control</td>\n",
       "    </tr>\n",
       "    <tr>\n",
       "      <th>2</th>\n",
       "      <td>Certified 2017 Honda CR-V EX</td>\n",
       "      <td>$23,700</td>\n",
       "      <td>$456 est/month</td>\n",
       "      <td>Brake Assist-Stability Control</td>\n",
       "    </tr>\n",
       "    <tr>\n",
       "      <th>3</th>\n",
       "      <td>Used 2017 Hyundai Santa Fe SE</td>\n",
       "      <td>$13,791</td>\n",
       "      <td>$265 est/month</td>\n",
       "      <td>Brake Assist-Stability Control</td>\n",
       "    </tr>\n",
       "    <tr>\n",
       "      <th>4</th>\n",
       "      <td>Certified 2017 Toyota RAV4 LE</td>\n",
       "      <td>$21,277</td>\n",
       "      <td>$410 est/month</td>\n",
       "      <td>Brake Assist-Stability Control</td>\n",
       "    </tr>\n",
       "  </tbody>\n",
       "</table>\n",
       "</div>"
      ],
      "text/plain": [
       "                            name    price maintainance_cost  \\\n",
       "1  Certified 2017 Ford Escape SE  $16,248    $313 est/month   \n",
       "2   Certified 2017 Honda CR-V EX  $23,700    $456 est/month   \n",
       "3  Used 2017 Hyundai Santa Fe SE  $13,791    $265 est/month   \n",
       "4  Certified 2017 Toyota RAV4 LE  $21,277    $410 est/month   \n",
       "\n",
       "                           safety  \n",
       "1  Brake Assist-Stability Control  \n",
       "2  Brake Assist-Stability Control  \n",
       "3  Brake Assist-Stability Control  \n",
       "4  Brake Assist-Stability Control  "
      ]
     },
     "execution_count": 83,
     "metadata": {},
     "output_type": "execute_result"
    }
   ],
   "source": [
    "#scenario 1\n",
    "edf= pd.DataFrame(data={'name' : name, 'price' : price, 'safety' : safety, 'maintainance_cost' : maintainance_cost}\n",
    "                  ,index=range(1,len(name)+1))\n",
    "cars_1=edf[['name','price','maintainance_cost','safety']]\n",
    "cars_1"
   ]
  },
  {
   "cell_type": "code",
   "execution_count": 84,
   "metadata": {},
   "outputs": [
    {
     "data": {
      "text/html": [
       "<div>\n",
       "<style>\n",
       "    .dataframe thead tr:only-child th {\n",
       "        text-align: right;\n",
       "    }\n",
       "\n",
       "    .dataframe thead th {\n",
       "        text-align: left;\n",
       "    }\n",
       "\n",
       "    .dataframe tbody tr th {\n",
       "        vertical-align: top;\n",
       "    }\n",
       "</style>\n",
       "<table border=\"1\" class=\"dataframe\">\n",
       "  <thead>\n",
       "    <tr style=\"text-align: right;\">\n",
       "      <th></th>\n",
       "      <th>name</th>\n",
       "      <th>fuel_economy</th>\n",
       "      <th>resale_value</th>\n",
       "      <th>insurance</th>\n",
       "    </tr>\n",
       "  </thead>\n",
       "  <tbody>\n",
       "    <tr>\n",
       "      <th>1</th>\n",
       "      <td>Certified 2017 Ford Escape SE</td>\n",
       "      <td>24 MPG Combined</td>\n",
       "      <td>$11,208</td>\n",
       "      <td>$1152PER YEAR</td>\n",
       "    </tr>\n",
       "    <tr>\n",
       "      <th>2</th>\n",
       "      <td>Certified 2017 Honda CR-V EX</td>\n",
       "      <td>27 MPG Combined</td>\n",
       "      <td>$17,579</td>\n",
       "      <td>$1349PER YEAR</td>\n",
       "    </tr>\n",
       "    <tr>\n",
       "      <th>3</th>\n",
       "      <td>Used 2017 Hyundai Santa Fe SE</td>\n",
       "      <td>21 MPG Combined</td>\n",
       "      <td>$15,765</td>\n",
       "      <td>$1229PER YEAR</td>\n",
       "    </tr>\n",
       "    <tr>\n",
       "      <th>4</th>\n",
       "      <td>Certified 2017 Toyota RAV4 LE</td>\n",
       "      <td>25 MPG Combined</td>\n",
       "      <td>$15,456</td>\n",
       "      <td>$1221PER YEAR</td>\n",
       "    </tr>\n",
       "  </tbody>\n",
       "</table>\n",
       "</div>"
      ],
      "text/plain": [
       "                            name     fuel_economy resale_value      insurance\n",
       "1  Certified 2017 Ford Escape SE  24 MPG Combined      $11,208  $1152PER YEAR\n",
       "2   Certified 2017 Honda CR-V EX  27 MPG Combined      $17,579  $1349PER YEAR\n",
       "3  Used 2017 Hyundai Santa Fe SE  21 MPG Combined      $15,765  $1229PER YEAR\n",
       "4  Certified 2017 Toyota RAV4 LE  25 MPG Combined      $15,456  $1221PER YEAR"
      ]
     },
     "execution_count": 84,
     "metadata": {},
     "output_type": "execute_result"
    }
   ],
   "source": [
    "#scenario 2\n",
    "edf= pd.DataFrame(data={'name' : name, 'fuel_economy' : fuel_economy, 'resale_value' : resale_value, 'insurance':insurance},\n",
    "                  index=range(1,len(name)+1))\n",
    "cars_2=edf[['name','fuel_economy','resale_value','insurance']]\n",
    "cars_2"
   ]
  },
  {
   "cell_type": "code",
   "execution_count": 137,
   "metadata": {},
   "outputs": [
    {
     "ename": "NameError",
     "evalue": "name 'name' is not defined",
     "output_type": "error",
     "traceback": [
      "\u001b[1;31m---------------------------------------------------------------------------\u001b[0m",
      "\u001b[1;31mNameError\u001b[0m                                 Traceback (most recent call last)",
      "\u001b[1;32m<ipython-input-137-f4664ccb76d7>\u001b[0m in \u001b[0;36m<module>\u001b[1;34m()\u001b[0m\n\u001b[0;32m      1\u001b[0m \u001b[1;31m#define data dictionary and create data.frame\u001b[0m\u001b[1;33m\u001b[0m\u001b[1;33m\u001b[0m\u001b[0m\n\u001b[1;32m----> 2\u001b[1;33m df = {'name' : name, 'price' : price, 'safety' : safety, 'maintainance_cost' : maintainance_cost, \n\u001b[0m\u001b[0;32m      3\u001b[0m       'fuel_economy' : fuel_economy, 'resale_value' : resale_value, 'insurance':insurance}\n\u001b[0;32m      4\u001b[0m \u001b[0medf\u001b[0m\u001b[1;33m=\u001b[0m \u001b[0mpd\u001b[0m\u001b[1;33m.\u001b[0m\u001b[0mDataFrame\u001b[0m\u001b[1;33m(\u001b[0m\u001b[0mdata\u001b[0m\u001b[1;33m=\u001b[0m\u001b[0mdf\u001b[0m\u001b[1;33m,\u001b[0m\u001b[0mindex\u001b[0m\u001b[1;33m=\u001b[0m\u001b[0mrange\u001b[0m\u001b[1;33m(\u001b[0m\u001b[1;36m1\u001b[0m\u001b[1;33m,\u001b[0m\u001b[0mlen\u001b[0m\u001b[1;33m(\u001b[0m\u001b[0mname\u001b[0m\u001b[1;33m)\u001b[0m\u001b[1;33m+\u001b[0m\u001b[1;36m1\u001b[0m\u001b[1;33m)\u001b[0m\u001b[1;33m)\u001b[0m\u001b[1;33m\u001b[0m\u001b[0m\n\u001b[0;32m      5\u001b[0m \u001b[0mcarsDf\u001b[0m\u001b[1;33m=\u001b[0m\u001b[0medf\u001b[0m\u001b[1;33m[\u001b[0m\u001b[1;33m[\u001b[0m\u001b[1;34m'name'\u001b[0m\u001b[1;33m,\u001b[0m\u001b[1;34m'price'\u001b[0m\u001b[1;33m,\u001b[0m\u001b[1;34m'maintainance_cost'\u001b[0m\u001b[1;33m,\u001b[0m\u001b[1;34m'fuel_economy'\u001b[0m\u001b[1;33m,\u001b[0m\u001b[1;34m'resale_value'\u001b[0m\u001b[1;33m,\u001b[0m\u001b[1;34m'insurance'\u001b[0m\u001b[1;33m,\u001b[0m\u001b[1;34m'safety'\u001b[0m\u001b[1;33m]\u001b[0m\u001b[1;33m]\u001b[0m\u001b[1;33m\u001b[0m\u001b[0m\n",
      "\u001b[1;31mNameError\u001b[0m: name 'name' is not defined"
     ]
    }
   ],
   "source": [
    "#define data dictionary and create data.frame\n",
    "df = {'name' : name, 'price' : price, 'safety' : safety, 'maintainance_cost' : maintainance_cost, \n",
    "      'fuel_economy' : fuel_economy, 'resale_value' : resale_value, 'insurance':insurance}\n",
    "edf= pd.DataFrame(data=df,index=range(1,len(name)+1))\n",
    "carsDf=edf[['name','price','maintainance_cost','fuel_economy','resale_value','insurance','safety']]\n",
    "\n",
    "carsDf.to_csv('cars_raw.csv')\n",
    "carsDf"
   ]
  },
  {
   "cell_type": "code",
   "execution_count": 27,
   "metadata": {
    "scrolled": true
   },
   "outputs": [
    {
     "data": {
      "text/html": [
       "<div>\n",
       "<style>\n",
       "    .dataframe thead tr:only-child th {\n",
       "        text-align: right;\n",
       "    }\n",
       "\n",
       "    .dataframe thead th {\n",
       "        text-align: left;\n",
       "    }\n",
       "\n",
       "    .dataframe tbody tr th {\n",
       "        vertical-align: top;\n",
       "    }\n",
       "</style>\n",
       "<table border=\"1\" class=\"dataframe\">\n",
       "  <thead>\n",
       "    <tr style=\"text-align: right;\">\n",
       "      <th></th>\n",
       "      <th>car_name</th>\n",
       "      <th>maintainance_cost</th>\n",
       "      <th>price</th>\n",
       "      <th>safety_features</th>\n",
       "    </tr>\n",
       "  </thead>\n",
       "  <tbody>\n",
       "    <tr>\n",
       "      <th>0</th>\n",
       "      <td>Certified 2017 Ford Escape SE</td>\n",
       "      <td>313</td>\n",
       "      <td>16248</td>\n",
       "      <td>[Brake Assist, Stability Control]</td>\n",
       "    </tr>\n",
       "    <tr>\n",
       "      <th>1</th>\n",
       "      <td>Certified 2017 Honda CR-V EX</td>\n",
       "      <td>456</td>\n",
       "      <td>23700</td>\n",
       "      <td>[Brake Assist, Stability Control]</td>\n",
       "    </tr>\n",
       "    <tr>\n",
       "      <th>2</th>\n",
       "      <td>Used 2017 Hyundai Santa Fe SE</td>\n",
       "      <td>265</td>\n",
       "      <td>13791</td>\n",
       "      <td>[Brake Assist, Stability Control]</td>\n",
       "    </tr>\n",
       "    <tr>\n",
       "      <th>3</th>\n",
       "      <td>Certified 2017 Toyota RAV4 LE</td>\n",
       "      <td>410</td>\n",
       "      <td>21277</td>\n",
       "      <td>[Brake Assist, Stability Control]</td>\n",
       "    </tr>\n",
       "  </tbody>\n",
       "</table>\n",
       "</div>"
      ],
      "text/plain": [
       "                        car_name maintainance_cost  price  \\\n",
       "0  Certified 2017 Ford Escape SE               313  16248   \n",
       "1   Certified 2017 Honda CR-V EX               456  23700   \n",
       "2  Used 2017 Hyundai Santa Fe SE               265  13791   \n",
       "3  Certified 2017 Toyota RAV4 LE               410  21277   \n",
       "\n",
       "                     safety_features  \n",
       "0  [Brake Assist, Stability Control]  \n",
       "1  [Brake Assist, Stability Control]  \n",
       "2  [Brake Assist, Stability Control]  \n",
       "3  [Brake Assist, Stability Control]  "
      ]
     },
     "execution_count": 27,
     "metadata": {},
     "output_type": "execute_result"
    }
   ],
   "source": [
    "# Clean and present Scenario 1\n",
    "import pandas as pd\n",
    "cars=pd.read_csv('cars.csv')\n",
    "cars_1=cars[['name','price','maintainance_cost','safety']]\n",
    "#price weights = 10\n",
    "price=[p.split(\"$\")[1] for p in cars_1.price ]\n",
    "price=[p.replace(\",\",\"\") for p in price ]\n",
    "\n",
    "\n",
    "mnt_cost=[m.split(\"$\")[1] for m in cars_1.maintainance_cost ]\n",
    "mnt_cost=[n.split(\" \")[0] for n in mnt_cost]\n",
    "\n",
    "safety=[o.split(\"-\") for o in cars_1.safety ]\n",
    "\n",
    "dict1={'car_name': cars_1.name,'price':price,'maintainance_cost':mnt_cost,'safety_features':safety}\n",
    "cars_clean1=pd.DataFrame(dict1)\n",
    "cars_clean1"
   ]
  },
  {
   "cell_type": "code",
   "execution_count": 28,
   "metadata": {
    "collapsed": true
   },
   "outputs": [],
   "source": [
    "cars_1=cars[['name','price','maintainance_cost','safety']]\n",
    "cars_2=cars[['name','fuel_economy','resale_value','insurance']]\n",
    "cars_1.to_csv('cars_raw1.csv')\n",
    "cars_2.to_csv('cars_raw2.csv')\n"
   ]
  },
  {
   "cell_type": "code",
   "execution_count": 29,
   "metadata": {},
   "outputs": [
    {
     "data": {
      "text/html": [
       "<div>\n",
       "<style>\n",
       "    .dataframe thead tr:only-child th {\n",
       "        text-align: right;\n",
       "    }\n",
       "\n",
       "    .dataframe thead th {\n",
       "        text-align: left;\n",
       "    }\n",
       "\n",
       "    .dataframe tbody tr th {\n",
       "        vertical-align: top;\n",
       "    }\n",
       "</style>\n",
       "<table border=\"1\" class=\"dataframe\">\n",
       "  <thead>\n",
       "    <tr style=\"text-align: right;\">\n",
       "      <th></th>\n",
       "      <th>car_name</th>\n",
       "      <th>maintainance_cost</th>\n",
       "      <th>price</th>\n",
       "      <th>safety_features</th>\n",
       "      <th>maintainance_cost_w</th>\n",
       "      <th>price_w</th>\n",
       "      <th>safety_features_w</th>\n",
       "    </tr>\n",
       "  </thead>\n",
       "  <tbody>\n",
       "    <tr>\n",
       "      <th>0</th>\n",
       "      <td>Certified 2017 Ford Escape SE</td>\n",
       "      <td>313</td>\n",
       "      <td>16248</td>\n",
       "      <td>[Brake Assist, Stability Control]</td>\n",
       "      <td>3</td>\n",
       "      <td>7</td>\n",
       "      <td>5</td>\n",
       "    </tr>\n",
       "    <tr>\n",
       "      <th>1</th>\n",
       "      <td>Certified 2017 Honda CR-V EX</td>\n",
       "      <td>456</td>\n",
       "      <td>23700</td>\n",
       "      <td>[Brake Assist, Stability Control]</td>\n",
       "      <td>5</td>\n",
       "      <td>10</td>\n",
       "      <td>5</td>\n",
       "    </tr>\n",
       "    <tr>\n",
       "      <th>2</th>\n",
       "      <td>Used 2017 Hyundai Santa Fe SE</td>\n",
       "      <td>265</td>\n",
       "      <td>13791</td>\n",
       "      <td>[Brake Assist, Stability Control]</td>\n",
       "      <td>3</td>\n",
       "      <td>6</td>\n",
       "      <td>5</td>\n",
       "    </tr>\n",
       "    <tr>\n",
       "      <th>3</th>\n",
       "      <td>Certified 2017 Toyota RAV4 LE</td>\n",
       "      <td>410</td>\n",
       "      <td>21277</td>\n",
       "      <td>[Brake Assist, Stability Control]</td>\n",
       "      <td>4</td>\n",
       "      <td>9</td>\n",
       "      <td>5</td>\n",
       "    </tr>\n",
       "  </tbody>\n",
       "</table>\n",
       "</div>"
      ],
      "text/plain": [
       "                        car_name maintainance_cost  price  \\\n",
       "0  Certified 2017 Ford Escape SE               313  16248   \n",
       "1   Certified 2017 Honda CR-V EX               456  23700   \n",
       "2  Used 2017 Hyundai Santa Fe SE               265  13791   \n",
       "3  Certified 2017 Toyota RAV4 LE               410  21277   \n",
       "\n",
       "                     safety_features  maintainance_cost_w  price_w  \\\n",
       "0  [Brake Assist, Stability Control]                    3        7   \n",
       "1  [Brake Assist, Stability Control]                    5       10   \n",
       "2  [Brake Assist, Stability Control]                    3        6   \n",
       "3  [Brake Assist, Stability Control]                    4        9   \n",
       "\n",
       "   safety_features_w  \n",
       "0                  5  \n",
       "1                  5  \n",
       "2                  5  \n",
       "3                  5  "
      ]
     },
     "execution_count": 29,
     "metadata": {},
     "output_type": "execute_result"
    }
   ],
   "source": [
    "#create wieghted price\n",
    "price_w=[int(p)*10/int(max(price)) for p in cars_clean1.price]\n",
    "price_w=[round(p) for p in price_w]\n",
    "#create weighted maintainance\n",
    "maintainance_w=[int(m)*5/int(max(mnt_cost)) for m in cars_clean1.maintainance_cost]\n",
    "maintainance_w=[round(m) for m in maintainance_w]\n",
    "#create weighted safety_features\n",
    "safety_w=[len(n)/3*7 for n in cars_clean1.safety_features]\n",
    "safety_w=[round(n) for n in safety_w]\n",
    "\n",
    "#create weighted dataset for scenario 1\n",
    "dict_w={'car_name': cars_1.name,'price_w':price_w,'maintainance_cost_w':maintainance_w,'safety_features_w':safety_w}\n",
    "weighted_cars1=pd.DataFrame(dict_w)\n",
    "weighted_cars1=pd.merge(cars_clean1,weighted_cars1)\n",
    "weighted_cars1.columns\n",
    "weighted_cars1.to_csv('clean_cardata1.csv')\n",
    "weighted_cars1"
   ]
  },
  {
   "cell_type": "code",
   "execution_count": 30,
   "metadata": {},
   "outputs": [
    {
     "data": {
      "text/html": [
       "<div>\n",
       "<style>\n",
       "    .dataframe thead tr:only-child th {\n",
       "        text-align: right;\n",
       "    }\n",
       "\n",
       "    .dataframe thead th {\n",
       "        text-align: left;\n",
       "    }\n",
       "\n",
       "    .dataframe tbody tr th {\n",
       "        vertical-align: top;\n",
       "    }\n",
       "</style>\n",
       "<table border=\"1\" class=\"dataframe\">\n",
       "  <thead>\n",
       "    <tr style=\"text-align: right;\">\n",
       "      <th></th>\n",
       "      <th>car_name</th>\n",
       "      <th>fuel_economy</th>\n",
       "      <th>insurance</th>\n",
       "      <th>resale_value</th>\n",
       "    </tr>\n",
       "  </thead>\n",
       "  <tbody>\n",
       "    <tr>\n",
       "      <th>0</th>\n",
       "      <td>Certified 2017 Ford Escape SE</td>\n",
       "      <td>24</td>\n",
       "      <td>1152</td>\n",
       "      <td>11208</td>\n",
       "    </tr>\n",
       "    <tr>\n",
       "      <th>1</th>\n",
       "      <td>Certified 2017 Honda CR-V EX</td>\n",
       "      <td>27</td>\n",
       "      <td>1349</td>\n",
       "      <td>17579</td>\n",
       "    </tr>\n",
       "    <tr>\n",
       "      <th>2</th>\n",
       "      <td>Used 2017 Hyundai Santa Fe SE</td>\n",
       "      <td>21</td>\n",
       "      <td>1229</td>\n",
       "      <td>15765</td>\n",
       "    </tr>\n",
       "    <tr>\n",
       "      <th>3</th>\n",
       "      <td>Certified 2017 Toyota RAV4 LE</td>\n",
       "      <td>25</td>\n",
       "      <td>1221</td>\n",
       "      <td>15456</td>\n",
       "    </tr>\n",
       "  </tbody>\n",
       "</table>\n",
       "</div>"
      ],
      "text/plain": [
       "                        car_name fuel_economy insurance resale_value\n",
       "0  Certified 2017 Ford Escape SE           24      1152        11208\n",
       "1   Certified 2017 Honda CR-V EX           27      1349        17579\n",
       "2  Used 2017 Hyundai Santa Fe SE           21      1229        15765\n",
       "3  Certified 2017 Toyota RAV4 LE           25      1221        15456"
      ]
     },
     "execution_count": 30,
     "metadata": {},
     "output_type": "execute_result"
    }
   ],
   "source": [
    "#scenario 2\n",
    "#price weights = 10\n",
    "cars_2=cars[['name','fuel_economy','resale_value','insurance']]\n",
    "resale_value=[s.split(\"$\")[1] for s in cars_2.resale_value]\n",
    "resale_value=[s.split(\" \")[0] for s in resale_value]\n",
    "resale_value=[s.replace(\",\",\"\") for s in resale_value]\n",
    "\n",
    "insurance=[r.split(\"PER\")[0] for r in cars_2.insurance]\n",
    "insurance=[r.replace(\"$\",\"\") for r in insurance]\n",
    "fuel_economy=[o.split(\" \")[0] for o in cars_2.fuel_economy]\n",
    "\n",
    "dict2={'car_name':cars_2.name,'resale_value': resale_value,'insurance':insurance,'fuel_economy':fuel_economy}\n",
    "cars_clean2=pd.DataFrame(dict2)\n",
    "cars_clean2"
   ]
  },
  {
   "cell_type": "code",
   "execution_count": 31,
   "metadata": {},
   "outputs": [
    {
     "data": {
      "text/html": [
       "<div>\n",
       "<style>\n",
       "    .dataframe thead tr:only-child th {\n",
       "        text-align: right;\n",
       "    }\n",
       "\n",
       "    .dataframe thead th {\n",
       "        text-align: left;\n",
       "    }\n",
       "\n",
       "    .dataframe tbody tr th {\n",
       "        vertical-align: top;\n",
       "    }\n",
       "</style>\n",
       "<table border=\"1\" class=\"dataframe\">\n",
       "  <thead>\n",
       "    <tr style=\"text-align: right;\">\n",
       "      <th></th>\n",
       "      <th>car_name</th>\n",
       "      <th>fuel_economy</th>\n",
       "      <th>insurance</th>\n",
       "      <th>resale_value</th>\n",
       "      <th>fuel_economy_w</th>\n",
       "      <th>insurance_w</th>\n",
       "      <th>resale_value_w</th>\n",
       "    </tr>\n",
       "  </thead>\n",
       "  <tbody>\n",
       "    <tr>\n",
       "      <th>0</th>\n",
       "      <td>Certified 2017 Ford Escape SE</td>\n",
       "      <td>24</td>\n",
       "      <td>1152</td>\n",
       "      <td>11208</td>\n",
       "      <td>9</td>\n",
       "      <td>7</td>\n",
       "      <td>3</td>\n",
       "    </tr>\n",
       "    <tr>\n",
       "      <th>1</th>\n",
       "      <td>Certified 2017 Honda CR-V EX</td>\n",
       "      <td>27</td>\n",
       "      <td>1349</td>\n",
       "      <td>17579</td>\n",
       "      <td>10</td>\n",
       "      <td>8</td>\n",
       "      <td>5</td>\n",
       "    </tr>\n",
       "    <tr>\n",
       "      <th>2</th>\n",
       "      <td>Used 2017 Hyundai Santa Fe SE</td>\n",
       "      <td>21</td>\n",
       "      <td>1229</td>\n",
       "      <td>15765</td>\n",
       "      <td>8</td>\n",
       "      <td>7</td>\n",
       "      <td>4</td>\n",
       "    </tr>\n",
       "    <tr>\n",
       "      <th>3</th>\n",
       "      <td>Certified 2017 Toyota RAV4 LE</td>\n",
       "      <td>25</td>\n",
       "      <td>1221</td>\n",
       "      <td>15456</td>\n",
       "      <td>9</td>\n",
       "      <td>7</td>\n",
       "      <td>4</td>\n",
       "    </tr>\n",
       "  </tbody>\n",
       "</table>\n",
       "</div>"
      ],
      "text/plain": [
       "                        car_name fuel_economy insurance resale_value  \\\n",
       "0  Certified 2017 Ford Escape SE           24      1152        11208   \n",
       "1   Certified 2017 Honda CR-V EX           27      1349        17579   \n",
       "2  Used 2017 Hyundai Santa Fe SE           21      1229        15765   \n",
       "3  Certified 2017 Toyota RAV4 LE           25      1221        15456   \n",
       "\n",
       "   fuel_economy_w  insurance_w  resale_value_w  \n",
       "0               9            7               3  \n",
       "1              10            8               5  \n",
       "2               8            7               4  \n",
       "3               9            7               4  "
      ]
     },
     "execution_count": 31,
     "metadata": {},
     "output_type": "execute_result"
    }
   ],
   "source": [
    "a=max(cars_clean2.fuel_economy)\n",
    "b=max(cars_clean2.insurance)\n",
    "c=max(cars_clean2.resale_value)\n",
    "#create wieghted fuel_economy=10\n",
    "fuel_w=[int(p)*10/int(a) for p in cars_clean2.fuel_economy]\n",
    "fuel_w=[round(p) for p in fuel_w]\n",
    "fuel_w\n",
    "#create weighted insurance=8\n",
    "insurance_w=[int(m)*8/int(b) for m in cars_clean2.insurance]\n",
    "insurance_w=[round(m) for m in insurance_w]\n",
    "#create weighted resale_value\n",
    "resale_w=[int(n)*5/int(c) for n in cars_clean2.resale_value]\n",
    "resale_w=[round(n) for n in resale_w]\n",
    "\n",
    "#create weighted dataset for scenario 2\n",
    "dict_w={'car_name': cars_2.name,'fuel_economy_w':fuel_w,'insurance_w':insurance_w,'resale_value_w':resale_w}\n",
    "weighted_cars2=pd.DataFrame(dict_w)\n",
    "weighted_cars2=pd.merge(cars_clean2,weighted_cars2)\n",
    "weighted_cars2.to_csv('clean_cardata2.csv')\n",
    "weighted_cars2"
   ]
  },
  {
   "cell_type": "code",
   "execution_count": 32,
   "metadata": {},
   "outputs": [
    {
     "data": {
      "text/html": [
       "<div>\n",
       "<style>\n",
       "    .dataframe thead tr:only-child th {\n",
       "        text-align: right;\n",
       "    }\n",
       "\n",
       "    .dataframe thead th {\n",
       "        text-align: left;\n",
       "    }\n",
       "\n",
       "    .dataframe tbody tr th {\n",
       "        vertical-align: top;\n",
       "    }\n",
       "</style>\n",
       "<table border=\"1\" class=\"dataframe\">\n",
       "  <thead>\n",
       "    <tr style=\"text-align: right;\">\n",
       "      <th></th>\n",
       "      <th>car_name</th>\n",
       "      <th>maintainance_cost</th>\n",
       "      <th>maintainance_cost_w</th>\n",
       "      <th>price</th>\n",
       "      <th>price_w</th>\n",
       "      <th>safety_features</th>\n",
       "      <th>safety_features_w</th>\n",
       "      <th>fuel_economy</th>\n",
       "      <th>fuel_economy_w</th>\n",
       "      <th>insurance</th>\n",
       "      <th>insurance_w</th>\n",
       "      <th>resale_value</th>\n",
       "      <th>resale_value_w</th>\n",
       "    </tr>\n",
       "  </thead>\n",
       "  <tbody>\n",
       "    <tr>\n",
       "      <th>0</th>\n",
       "      <td>Certified 2017 Ford Escape SE</td>\n",
       "      <td>313</td>\n",
       "      <td>3</td>\n",
       "      <td>16248</td>\n",
       "      <td>7</td>\n",
       "      <td>[Brake Assist, Stability Control]</td>\n",
       "      <td>5</td>\n",
       "      <td>24</td>\n",
       "      <td>9</td>\n",
       "      <td>1152</td>\n",
       "      <td>7</td>\n",
       "      <td>11208</td>\n",
       "      <td>3</td>\n",
       "    </tr>\n",
       "    <tr>\n",
       "      <th>1</th>\n",
       "      <td>Certified 2017 Honda CR-V EX</td>\n",
       "      <td>456</td>\n",
       "      <td>5</td>\n",
       "      <td>23700</td>\n",
       "      <td>10</td>\n",
       "      <td>[Brake Assist, Stability Control]</td>\n",
       "      <td>5</td>\n",
       "      <td>27</td>\n",
       "      <td>10</td>\n",
       "      <td>1349</td>\n",
       "      <td>8</td>\n",
       "      <td>17579</td>\n",
       "      <td>5</td>\n",
       "    </tr>\n",
       "    <tr>\n",
       "      <th>2</th>\n",
       "      <td>Used 2017 Hyundai Santa Fe SE</td>\n",
       "      <td>265</td>\n",
       "      <td>3</td>\n",
       "      <td>13791</td>\n",
       "      <td>6</td>\n",
       "      <td>[Brake Assist, Stability Control]</td>\n",
       "      <td>5</td>\n",
       "      <td>21</td>\n",
       "      <td>8</td>\n",
       "      <td>1229</td>\n",
       "      <td>7</td>\n",
       "      <td>15765</td>\n",
       "      <td>4</td>\n",
       "    </tr>\n",
       "    <tr>\n",
       "      <th>3</th>\n",
       "      <td>Certified 2017 Toyota RAV4 LE</td>\n",
       "      <td>410</td>\n",
       "      <td>4</td>\n",
       "      <td>21277</td>\n",
       "      <td>9</td>\n",
       "      <td>[Brake Assist, Stability Control]</td>\n",
       "      <td>5</td>\n",
       "      <td>25</td>\n",
       "      <td>9</td>\n",
       "      <td>1221</td>\n",
       "      <td>7</td>\n",
       "      <td>15456</td>\n",
       "      <td>4</td>\n",
       "    </tr>\n",
       "  </tbody>\n",
       "</table>\n",
       "</div>"
      ],
      "text/plain": [
       "                        car_name maintainance_cost  maintainance_cost_w  \\\n",
       "0  Certified 2017 Ford Escape SE               313                    3   \n",
       "1   Certified 2017 Honda CR-V EX               456                    5   \n",
       "2  Used 2017 Hyundai Santa Fe SE               265                    3   \n",
       "3  Certified 2017 Toyota RAV4 LE               410                    4   \n",
       "\n",
       "   price  price_w                    safety_features  safety_features_w  \\\n",
       "0  16248        7  [Brake Assist, Stability Control]                  5   \n",
       "1  23700       10  [Brake Assist, Stability Control]                  5   \n",
       "2  13791        6  [Brake Assist, Stability Control]                  5   \n",
       "3  21277        9  [Brake Assist, Stability Control]                  5   \n",
       "\n",
       "  fuel_economy  fuel_economy_w insurance  insurance_w resale_value  \\\n",
       "0           24               9      1152            7        11208   \n",
       "1           27              10      1349            8        17579   \n",
       "2           21               8      1229            7        15765   \n",
       "3           25               9      1221            7        15456   \n",
       "\n",
       "   resale_value_w  \n",
       "0               3  \n",
       "1               5  \n",
       "2               4  \n",
       "3               4  "
      ]
     },
     "execution_count": 32,
     "metadata": {},
     "output_type": "execute_result"
    }
   ],
   "source": [
    "#full detail\n",
    "cars_weights=pd.merge(weighted_cars1, weighted_cars2)\n",
    "cars_weights=cars_weights[['car_name','maintainance_cost','maintainance_cost_w','price','price_w','safety_features','safety_features_w',\n",
    "               'fuel_economy','fuel_economy_w','insurance','insurance_w','resale_value','resale_value_w']]\n",
    "cars_weights"
   ]
  },
  {
   "cell_type": "code",
   "execution_count": 34,
   "metadata": {
    "collapsed": true
   },
   "outputs": [],
   "source": [
    "cars_weights.to_csv('car_fulldata.csv')"
   ]
  },
  {
   "cell_type": "code",
   "execution_count": 33,
   "metadata": {},
   "outputs": [
    {
     "data": {
      "text/html": [
       "<div>\n",
       "<style>\n",
       "    .dataframe thead tr:only-child th {\n",
       "        text-align: right;\n",
       "    }\n",
       "\n",
       "    .dataframe thead th {\n",
       "        text-align: left;\n",
       "    }\n",
       "\n",
       "    .dataframe tbody tr th {\n",
       "        vertical-align: top;\n",
       "    }\n",
       "</style>\n",
       "<table border=\"1\" class=\"dataframe\">\n",
       "  <thead>\n",
       "    <tr style=\"text-align: right;\">\n",
       "      <th></th>\n",
       "      <th>car_name</th>\n",
       "      <th>maintainance_cost</th>\n",
       "      <th>maintainance_cost_w</th>\n",
       "      <th>price</th>\n",
       "      <th>price_w</th>\n",
       "      <th>safety_features</th>\n",
       "      <th>safety_features_w</th>\n",
       "      <th>fuel_economy</th>\n",
       "      <th>fuel_economy_w</th>\n",
       "      <th>insurance</th>\n",
       "      <th>insurance_w</th>\n",
       "      <th>resale_value</th>\n",
       "      <th>resale_value_w</th>\n",
       "    </tr>\n",
       "  </thead>\n",
       "  <tbody>\n",
       "    <tr>\n",
       "      <th>0</th>\n",
       "      <td>Certified 2017 Ford Escape SE</td>\n",
       "      <td>313</td>\n",
       "      <td>15</td>\n",
       "      <td>16248</td>\n",
       "      <td>70</td>\n",
       "      <td>[Brake Assist, Stability Control]</td>\n",
       "      <td>35</td>\n",
       "      <td>24</td>\n",
       "      <td>90</td>\n",
       "      <td>1152</td>\n",
       "      <td>56</td>\n",
       "      <td>11208</td>\n",
       "      <td>15</td>\n",
       "    </tr>\n",
       "    <tr>\n",
       "      <th>1</th>\n",
       "      <td>Certified 2017 Honda CR-V EX</td>\n",
       "      <td>456</td>\n",
       "      <td>25</td>\n",
       "      <td>23700</td>\n",
       "      <td>100</td>\n",
       "      <td>[Brake Assist, Stability Control]</td>\n",
       "      <td>35</td>\n",
       "      <td>27</td>\n",
       "      <td>100</td>\n",
       "      <td>1349</td>\n",
       "      <td>64</td>\n",
       "      <td>17579</td>\n",
       "      <td>25</td>\n",
       "    </tr>\n",
       "    <tr>\n",
       "      <th>2</th>\n",
       "      <td>Used 2017 Hyundai Santa Fe SE</td>\n",
       "      <td>265</td>\n",
       "      <td>15</td>\n",
       "      <td>13791</td>\n",
       "      <td>60</td>\n",
       "      <td>[Brake Assist, Stability Control]</td>\n",
       "      <td>35</td>\n",
       "      <td>21</td>\n",
       "      <td>80</td>\n",
       "      <td>1229</td>\n",
       "      <td>56</td>\n",
       "      <td>15765</td>\n",
       "      <td>20</td>\n",
       "    </tr>\n",
       "    <tr>\n",
       "      <th>3</th>\n",
       "      <td>Certified 2017 Toyota RAV4 LE</td>\n",
       "      <td>410</td>\n",
       "      <td>20</td>\n",
       "      <td>21277</td>\n",
       "      <td>90</td>\n",
       "      <td>[Brake Assist, Stability Control]</td>\n",
       "      <td>35</td>\n",
       "      <td>25</td>\n",
       "      <td>90</td>\n",
       "      <td>1221</td>\n",
       "      <td>56</td>\n",
       "      <td>15456</td>\n",
       "      <td>20</td>\n",
       "    </tr>\n",
       "  </tbody>\n",
       "</table>\n",
       "</div>"
      ],
      "text/plain": [
       "                        car_name maintainance_cost  maintainance_cost_w  \\\n",
       "0  Certified 2017 Ford Escape SE               313                   15   \n",
       "1   Certified 2017 Honda CR-V EX               456                   25   \n",
       "2  Used 2017 Hyundai Santa Fe SE               265                   15   \n",
       "3  Certified 2017 Toyota RAV4 LE               410                   20   \n",
       "\n",
       "   price  price_w                    safety_features  safety_features_w  \\\n",
       "0  16248       70  [Brake Assist, Stability Control]                 35   \n",
       "1  23700      100  [Brake Assist, Stability Control]                 35   \n",
       "2  13791       60  [Brake Assist, Stability Control]                 35   \n",
       "3  21277       90  [Brake Assist, Stability Control]                 35   \n",
       "\n",
       "  fuel_economy  fuel_economy_w insurance  insurance_w resale_value  \\\n",
       "0           24              90      1152           56        11208   \n",
       "1           27             100      1349           64        17579   \n",
       "2           21              80      1229           56        15765   \n",
       "3           25              90      1221           56        15456   \n",
       "\n",
       "   resale_value_w  \n",
       "0              15  \n",
       "1              25  \n",
       "2              20  \n",
       "3              20  "
      ]
     },
     "execution_count": 33,
     "metadata": {},
     "output_type": "execute_result"
    }
   ],
   "source": [
    "cars_weights.loc[:,'maintainance_cost_w'] *= 5\n",
    "cars_weights.loc[:,'price_w'] *= 10\n",
    "cars_weights.loc[:,'safety_features_w'] *= 7\n",
    "cars_weights.loc[:,'fuel_economy_w'] *= 10\n",
    "cars_weights.loc[:,'insurance_w'] *= 8\n",
    "cars_weights.loc[:,'resale_value_w'] *= 5\n",
    "\n",
    "#Total sum per column: \n",
    "#cars_weights.loc[:,'Total']= cars_weights.sum(axis=1)\n",
    "cars_weights"
   ]
  },
  {
   "cell_type": "code",
   "execution_count": null,
   "metadata": {
    "collapsed": true
   },
   "outputs": [],
   "source": []
  }
 ],
 "metadata": {
  "kernelspec": {
   "display_name": "Python 3",
   "language": "python",
   "name": "python3"
  },
  "language_info": {
   "codemirror_mode": {
    "name": "ipython",
    "version": 3
   },
   "file_extension": ".py",
   "mimetype": "text/x-python",
   "name": "python",
   "nbconvert_exporter": "python",
   "pygments_lexer": "ipython3",
   "version": "3.6.2"
  }
 },
 "nbformat": 4,
 "nbformat_minor": 2
}
